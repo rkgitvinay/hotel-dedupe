{
 "cells": [
  {
   "cell_type": "code",
   "execution_count": 8,
   "metadata": {},
   "outputs": [],
   "source": [
    "import mysql.connector\n",
    "connector = mysql.connector.connect(\n",
    "  host=\"localhost\",\n",
    "  user=\"root\",\n",
    "  passwd=\"\",\n",
    "  database=\"hotel_dedupe\"\n",
    ")\n",
    "\n",
    "mysqlCursor = connector.cursor()\n",
    "mysqlCursor.execute('SELECT * FROM hotel_master')\n",
    "masterResult = mysqlCursor.fetchall()\n",
    "connector.close()"
   ]
  },
  {
   "cell_type": "code",
   "execution_count": 5,
   "metadata": {},
   "outputs": [],
   "source": [
    "from fuzzywuzzy import fuzz\n",
    "import pandas as pd"
   ]
  },
  {
   "cell_type": "code",
   "execution_count": 6,
   "metadata": {},
   "outputs": [],
   "source": [
    "hotels = pd.read_csv('./hotel.csv')"
   ]
  },
  {
   "cell_type": "code",
   "execution_count": 7,
   "metadata": {},
   "outputs": [],
   "source": [
    "from geopy.distance import geodesic\n",
    "import decimal"
   ]
  },
  {
   "cell_type": "code",
   "execution_count": 10,
   "metadata": {
    "scrolled": false
   },
   "outputs": [],
   "source": [
    "for row in masterResult:   \n",
    "    \n",
    "    for childIndex, child in hotels.iterrows():\n",
    "        \n",
    "        Token_Sort_Ratio_Name = fuzz.token_sort_ratio(row[2], child['hotelName'])    \n",
    "        Token_Sort_Ratio_Address = fuzz.token_sort_ratio(row[3], child['address'])  \n",
    "        master_loc = (row[5], row[6])\n",
    "        child_loc = (child['latitude'], child['longitude'])\n",
    "        location_difference_in_meter = geodesic(master_loc, child_loc).m\n",
    "        location_difference_in_meter = round(decimal.Decimal(location_difference_in_meter), 2)\n",
    "        \n",
    "#         if Token_Sort_Ratio_Name > 80 and Token_Sort_Ratio_Address > 60 and location_difference_in_meter < 10:            \n",
    "#             print(row[2], ' <==HOTEL NAME==> ', child['hotelName'], '<==ACCURACY==>' ,Token_Sort_Ratio_Name)\n",
    "#             print(row[3], ' <==HOTEL ADDRESS==> ', child['address'], '<==ACCURACY==>' ,Token_Sort_Ratio_Address)\n",
    "#             print('<==DISTANCE==> ', location_difference_in_meter, 'meter')\n",
    "#             print('===================================================================================')\n",
    "            \n",
    "#             print('Duplicate Hotel with Jck-Id ', row[0], ' and Hotel-Id ', row[1])\n",
    "    \n",
    "    "
   ]
  },
  {
   "cell_type": "code",
   "execution_count": 12,
   "metadata": {},
   "outputs": [
    {
     "name": "stdout",
     "output_type": "stream",
     "text": [
      "64\n"
     ]
    }
   ],
   "source": [
    "test_address = fuzz.token_sort_ratio(\"Saradji Chambers,Timmapuri Circle,Station Road,Gulbarga,GULBARGA,KARNATAKA,India,Pin-585102\", \"Saradgi Chamber's, Timmapuri Circle, Station Road\") \n",
    "print(test_address)"
   ]
  },
  {
   "cell_type": "code",
   "execution_count": 13,
   "metadata": {},
   "outputs": [
    {
     "name": "stdout",
     "output_type": "stream",
     "text": [
      "0\n",
      "9\n",
      "8\n",
      "7\n",
      "6\n",
      "5\n",
      "4\n",
      "3\n",
      "2\n",
      "1\n",
      "0\n",
      "18\n",
      "16\n",
      "14\n",
      "12\n",
      "10\n",
      "8\n",
      "6\n",
      "4\n",
      "2\n",
      "0\n",
      "27\n",
      "24\n",
      "21\n",
      "18\n",
      "15\n",
      "12\n",
      "9\n",
      "6\n",
      "3\n",
      "0\n",
      "36\n",
      "32\n",
      "28\n",
      "24\n",
      "20\n",
      "16\n",
      "12\n",
      "8\n",
      "4\n",
      "0\n",
      "45\n",
      "40\n",
      "35\n",
      "30\n",
      "25\n",
      "20\n",
      "15\n",
      "10\n",
      "5\n",
      "0\n",
      "54\n",
      "48\n",
      "42\n",
      "36\n",
      "30\n",
      "24\n",
      "18\n",
      "12\n",
      "6\n",
      "0\n",
      "63\n",
      "56\n",
      "49\n",
      "42\n",
      "35\n",
      "28\n",
      "21\n",
      "14\n",
      "7\n",
      "0\n",
      "72\n",
      "64\n",
      "56\n",
      "48\n",
      "40\n",
      "32\n",
      "24\n",
      "16\n",
      "8\n",
      "0\n",
      "81\n",
      "72\n",
      "63\n",
      "54\n",
      "45\n",
      "36\n",
      "27\n",
      "18\n",
      "9\n",
      "0\n",
      "0\n",
      "0\n",
      "0\n",
      "0\n",
      "0\n",
      "0\n",
      "0\n",
      "0\n",
      "0\n"
     ]
    }
   ],
   "source": [
    "master = [1,2,3,4,5,6,7,8,9,0]\n",
    "\n",
    "child = [0,9,8,7,6,5,4,3,2,1]\n",
    "\n",
    "for m in master:\n",
    "    for c in child:\n",
    "        print(m*c)"
   ]
  }
 ],
 "metadata": {
  "kernelspec": {
   "display_name": "Python 3",
   "language": "python",
   "name": "python3"
  },
  "language_info": {
   "codemirror_mode": {
    "name": "ipython",
    "version": 3
   },
   "file_extension": ".py",
   "mimetype": "text/x-python",
   "name": "python",
   "nbconvert_exporter": "python",
   "pygments_lexer": "ipython3",
   "version": "3.7.0"
  }
 },
 "nbformat": 4,
 "nbformat_minor": 2
}
