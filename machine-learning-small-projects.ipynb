{
 "cells": [
  {
   "cell_type": "markdown",
   "metadata": {},
   "source": [
    "# 1 - Decision Tree"
   ]
  },
  {
   "cell_type": "code",
   "execution_count": 2,
   "metadata": {},
   "outputs": [],
   "source": [
    "from sklearn import tree"
   ]
  },
  {
   "cell_type": "code",
   "execution_count": 4,
   "metadata": {},
   "outputs": [],
   "source": [
    "#[height, weight, shoe size]\n",
    "x = [[175, 80, 44], [170, 70, 43], [160, 60, 38], [154,54, 37],\n",
    "        [165, 65, 40], [134, 40, 30]]\n",
    "\n",
    "y = ['male', 'male', 'female', 'male', 'female', 'male']"
   ]
  },
  {
   "cell_type": "code",
   "execution_count": 6,
   "metadata": {},
   "outputs": [],
   "source": [
    "clf = tree.DecisionTreeClassifier()\n",
    "clf  = clf.fit(x, y)"
   ]
  },
  {
   "cell_type": "code",
   "execution_count": 7,
   "metadata": {},
   "outputs": [
    {
     "name": "stdout",
     "output_type": "stream",
     "text": [
      "['female']\n"
     ]
    }
   ],
   "source": [
    "prediction = clf.predict([[145, 45, 40]])\n",
    "print(prediction)"
   ]
  },
  {
   "cell_type": "markdown",
   "metadata": {},
   "source": [
    "# 2- Twitter Sentiment Analysis"
   ]
  },
  {
   "cell_type": "code",
   "execution_count": 27,
   "metadata": {
    "scrolled": true
   },
   "outputs": [
    {
     "name": "stdout",
     "output_type": "stream",
     "text": [
      "@abhisar_sharma Ye BC ko Modi ji nahi bolte toh ye vote nahi karta?\n",
      "--------------------------\n",
      "Sentiment(polarity=0.0, subjectivity=0.0)\n",
      "============================================================================================\n",
      "RT @mvmeet: Under Modi Raj, \n",
      "These corrupts are celebrating Navrati in Jail\n",
      "\n",
      "Nirav Modi: PNB Scam\n",
      "Lalu Yadav: Fodder Scam\n",
      "Chautala: Recruit…\n",
      "--------------------------\n",
      "Sentiment(polarity=-0.1, subjectivity=0.0)\n",
      "============================================================================================\n",
      "RT @sanku1987: I support @narendramodi\n",
      "Nation wants Modi..\n",
      "Vote for Modi...\n",
      "Fir ek baar Modi sarkar...\n",
      "\n",
      "#DoctorsForModi\n",
      "--------------------------\n",
      "Sentiment(polarity=0.2, subjectivity=0.1)\n",
      "============================================================================================\n",
      "RT @SalmanSoz: I remember the 2014 election so clearly (of course, we lost badly). The 2019 election seems nothing like that. This election…\n",
      "--------------------------\n",
      "Sentiment(polarity=-0.29999999999999993, subjectivity=0.5249999999999999)\n",
      "============================================================================================\n",
      "@ShashiTharoor @INCIndia Yes, for this we will ensure to vote for Modi ji. Congress only gave bomb blasts and advocate against Ram Mandir.\n",
      "--------------------------\n",
      "Sentiment(polarity=0.0, subjectivity=1.0)\n",
      "============================================================================================\n"
     ]
    }
   ],
   "source": [
    "import tweepy\n",
    "from textblob import TextBlob\n",
    "\n",
    "consumer_key = 'CTD4qYtC3S6EcSASqJ2EH58Wh'\n",
    "consumer_secret = 'iVpEkLvtvbxrd6qDLvQjl5cJGzskD0k8IKTquglxQ6JxuwHDu0'\n",
    "\n",
    "access_token = '304569962-ikfrrlCDuOfrlcBpfytmLcgd3XUU5EUdsl9uxwWT'\n",
    "access_token_secret = 'gKgaHwLakTmT6ciFBYnqPfBkqPjQz0TGw1THL18jlRQHD'\n",
    "\n",
    "auth = tweepy.OAuthHandler(consumer_key, consumer_secret)\n",
    "auth.set_access_token(access_token, access_token_secret)\n",
    "\n",
    "api = tweepy.API(auth)\n",
    "\n",
    "public_tweets = api.search('modi')\n",
    "\n",
    "for tweet in public_tweets:\n",
    "    print(tweet.text)\n",
    "    print('--------------------------')\n",
    "    analysis = TextBlob(tweet.text)\n",
    "    print(analysis.sentiment) \n",
    "    # polarity measurs how positive and negative sentence is\n",
    "    # subjectivity measurs ratio between opinion and factual statement\n",
    "    print('============================================================================================')"
   ]
  },
  {
   "cell_type": "markdown",
   "metadata": {},
   "source": [
    "# 3- Movie Recommendation System"
   ]
  },
  {
   "cell_type": "markdown",
   "metadata": {},
   "source": [
    "There are two types of system\n",
    "1 - Colaborative system -> tell what you like based on other similer users like in past\n",
    "2 - Content based system -> tell what you like based on what you liked in past"
   ]
  },
  {
   "cell_type": "code",
   "execution_count": 48,
   "metadata": {},
   "outputs": [
    {
     "name": "stdout",
     "output_type": "stream",
     "text": [
      "User 3\n",
      "         known positives:\n",
      "              Seven (Se7en) (1995)\n",
      "              Contact (1997)\n",
      "              Starship Troopers (1997)\n",
      "          Recommended:\n",
      "               Air Force One (1997)\n",
      "               Contact (1997)\n",
      "               Scream (1996)\n",
      "User 25\n",
      "         known positives:\n",
      "              Dead Man Walking (1995)\n",
      "              Star Wars (1977)\n",
      "              Fargo (1996)\n",
      "          Recommended:\n",
      "               L.A. Confidential (1997)\n",
      "               Fargo (1996)\n",
      "               Contact (1997)\n",
      "User 450\n",
      "         known positives:\n",
      "              Contact (1997)\n",
      "              George of the Jungle (1997)\n",
      "              Event Horizon (1997)\n",
      "          Recommended:\n",
      "               Air Force One (1997)\n",
      "               Titanic (1997)\n",
      "               Conspiracy Theory (1997)\n"
     ]
    }
   ],
   "source": [
    "import numpy as np\n",
    "from lightfm.datasets import fetch_movielens\n",
    "from lightfm import LightFM\n",
    "\n",
    "# fetch data and format it\n",
    "\n",
    "data = fetch_movielens(min_rating=4.0)\n",
    "\n",
    "# create model\n",
    "model = LightFM(loss='warp') # weighted approximate-rank pairwise\n",
    "\n",
    "# train model\n",
    "model.fit(data['train'], epochs=30, num_threads=2)\n",
    "\n",
    "def sample_recommendation(model, data, user_ids):\n",
    "    #number of users and movies in training data\n",
    "    n_users, n_items = data['train'].shape\n",
    "    \n",
    "    # generate recommendation for each user we input\n",
    "    for user_id in user_ids:\n",
    "        #movies they already liked\n",
    "        known_positives = data['item_labels'][data['train'].tocsr()[user_id].indices]\n",
    "        \n",
    "        #movies our model predicts they will like\n",
    "        score = model.predict(user_id, np.arange(n_items))\n",
    "        \n",
    "        # rank them in order of most liked to least\n",
    "        top_items = data['item_labels'][np.argsort(-score)]\n",
    "        \n",
    "        #print out the result\n",
    "        print(\"User %s\" %user_id)\n",
    "        print(\"         known positives:\")\n",
    "        \n",
    "        for x in known_positives[:3]:\n",
    "            print(\"              %s\" %x)\n",
    "            \n",
    "        print(\"          Recommended:\")\n",
    "        for x in top_items[:3]:\n",
    "            print(\"               %s\" %x)\n",
    "\n",
    "sample_recommendation(model, data, [3, 25, 450])"
   ]
  },
  {
   "cell_type": "markdown",
   "metadata": {},
   "source": [
    "# Predict Stock Prices"
   ]
  },
  {
   "cell_type": "code",
   "execution_count": null,
   "metadata": {},
   "outputs": [],
   "source": [
    "import csv\n",
    "import numpy as np\n",
    "from sklearn.svm import SVR\n",
    "import matplotlib.pyplot as plt\n",
    "\n",
    "dates = []\n",
    "prices = []\n",
    "\n",
    "def get_data"
   ]
  }
 ],
 "metadata": {
  "kernelspec": {
   "display_name": "Python 3",
   "language": "python",
   "name": "python3"
  },
  "language_info": {
   "codemirror_mode": {
    "name": "ipython",
    "version": 3
   },
   "file_extension": ".py",
   "mimetype": "text/x-python",
   "name": "python",
   "nbconvert_exporter": "python",
   "pygments_lexer": "ipython3",
   "version": "3.7.0"
  }
 },
 "nbformat": 4,
 "nbformat_minor": 2
}
