{
 "cells": [
  {
   "cell_type": "code",
   "execution_count": 78,
   "metadata": {},
   "outputs": [],
   "source": [
    "import pymongo\n",
    "import decimal\n",
    "from fuzzywuzzy import fuzz\n",
    "from geopy.distance import geodesic"
   ]
  },
  {
   "cell_type": "code",
   "execution_count": 79,
   "metadata": {},
   "outputs": [],
   "source": [
    "myclient = pymongo.MongoClient(\"mongodb://192.168.0.124:27017/\")\n",
    "mydb = myclient[\"HotelStaticDump\"]\n",
    "dataCollection = mydb['staticDumpHotel']"
   ]
  },
  {
   "cell_type": "code",
   "execution_count": 151,
   "metadata": {
    "scrolled": true
   },
   "outputs": [
    {
     "name": "stdout",
     "output_type": "stream",
     "text": [
      "{'_id': '00000005_TRAVELGURU', 'ota': 'TRAVELGURU', 'information': {'name': 'Hotel City Park', 'city': 'NEW DELHI', 'address1': 'Near TV Tower, Pitampura,,Pitampura,NEW DELHI,DELHI,India,Pin-110088', 'latitude': '28.515432', 'longitude': '77.092735', 'postalCode': '110088'}}\n",
      "{'_id': '00009949_TRAVELGURU', 'ota': 'TRAVELGURU', 'information': {'name': 'Hotel City Park', 'city': 'GUWAHATI', 'address1': 'S. S. Road, Afsar Lane, Lakhtokia, Fancy Bazaar, Guwahati, Assam,,Panbazar,GUWAHATI,ASSAM,India,Pin-781001', 'latitude': '26.181171', 'longitude': '91.74109', 'postalCode': '781001'}}\n",
      "{'_id': '00016086_TRAVELGURU', 'ota': 'TRAVELGURU', 'information': {'name': 'Hotel City Park', 'city': 'HARIDWAR', 'address1': 'Near Rishikul Bus stand,Jamuna Palace Haridwar,Devpura,HARIDWAR,UTTARAKHAND,India,Pin-247663', 'latitude': '29.77986', 'longitude': '78.08801', 'postalCode': '247663'}}\n",
      "{'_id': '00017211_TRAVELGURU', 'ota': 'TRAVELGURU', 'information': {'name': 'Hotel City Park', 'city': 'AMRITSAR', 'address1': 'Near Post Office, Jallianwala Bagh,,Near Golden Temple,AMRITSAR,PUNJAB,India,Pin-143001', 'latitude': '31.622553', 'longitude': '74.880325', 'postalCode': '143001'}}\n",
      "{'_id': '00030689_TRAVELGURU', 'ota': 'TRAVELGURU', 'information': {'name': 'Hotel City Park', 'city': 'GULBARGA', 'address1': 'Saradji Chambers,Timmapuri Circle,Station Road,Gulbarga,GULBARGA,KARNATAKA,India,Pin-585102', 'latitude': '17.318905', 'longitude': '76.82692', 'postalCode': '585102'}}\n",
      "{'_id': '00033984_TRAVELGURU', 'ota': 'TRAVELGURU', 'information': {'name': 'Hotel City Park', 'city': 'COIMBATORE', 'address1': '3rd Street,Near Crosscut Signal,Gandhipuram,Coimbatore,Gandhipuram,COIMBATORE,TAMIL NADU,India,Pin-641012', 'latitude': '11.017691', 'longitude': '76.96841', 'postalCode': '641012'}}\n",
      "{'_id': '00126411_TRAVELGURU', 'ota': 'TRAVELGURU', 'information': {'name': 'Hotel City Park', 'city': 'HYDERABAD', 'address1': '5-8-457-489, Chirag Ali Lane, Karimabad Cooperative Society, Abids,,,Abids,HYDERABAD,TELANGANA,India,Pin-500001', 'latitude': '17.391672', 'longitude': '78.47434', 'postalCode': '500001'}}\n",
      "{'_id': '389588_CLEARTRIP', 'ota': 'CLEARTRIP', 'information': {'name': 'Hotel City Park', 'city': 'Guwahati', 'address1': 'Afsar Lane, S.S Road,  Lakhtokia', 'latitude': '26.181171', 'longitude': '91.74109', 'postalCode': '781001'}}\n",
      "{'_id': '41209_CLEARTRIP', 'ota': 'CLEARTRIP', 'information': {'name': 'Hotel City Park', 'city': 'New Delhi', 'address1': 'Near District park, Pitampura', 'latitude': '28.705439', 'longitude': '77.14348', 'postalCode': '110005'}}\n",
      "{'_id': '716999_CLEARTRIP', 'ota': 'CLEARTRIP', 'information': {'name': 'Hotel City Park', 'city': 'Amritsar', 'address1': 'Near Post Office, Jallianwala Bagh', 'latitude': '31.622553', 'longitude': '74.880325', 'postalCode': '143001'}}\n",
      "{'_id': '730350_CLEARTRIP', 'ota': 'CLEARTRIP', 'information': {'name': 'Hotel City Park', 'city': 'Solapur', 'address1': '119, Murarji Peth, Char Hutatma Chowk', 'latitude': '17.672264', 'longitude': '75.9003', 'postalCode': '413001'}}\n",
      "{'_id': '955670_CLEARTRIP', 'ota': 'CLEARTRIP', 'information': {'name': 'Hotel City Park', 'city': 'Gulbarga', 'address1': \"Saradgi Chamber's, Timmapuri Circle, Station Road\", 'latitude': '17.318905', 'longitude': '76.82692', 'postalCode': '585102'}}\n"
     ]
    }
   ],
   "source": [
    "masterResult = dataCollection.find({\"information.name\": \"Hotel City Park\"},{ \n",
    "    \"_id\": 1, \n",
    "    \"ota\": 1, \n",
    "    \"information.name\": 1, \n",
    "    \"information.address1\": 1, \n",
    "    \"information.city\": 1, \n",
    "    \"information.latitude\": 1,\n",
    "    \"information.longitude\": 1,\n",
    "    \"information.postalCode\": 1\n",
    "})\n",
    "\n",
    "childResults = dataCollection.find({\"information.name\": \"Hotel City Park\"},{ \n",
    "    \"_id\": 1, \n",
    "    \"ota\": 1, \n",
    "    \"information.name\": 1, \n",
    "    \"information.address1\": 1, \n",
    "    \"information.city\": 1, \n",
    "    \"information.latitude\": 1,\n",
    "    \"information.longitude\": 1,\n",
    "    \"information.postalCode\": 1\n",
    "})\n",
    "\n",
    "\n",
    "\n",
    "\n",
    "for master in masterResult:         \n",
    "    def doWork():\n",
    "        for idx, child in enumerate(childResults):\n",
    "            print(child)\n",
    "            if(idx > 9):\n",
    "                return\n",
    "    doWork()\n",
    "\n",
    "\n",
    "        \n",
    "        \n",
    "        \n",
    "#         Token_Sort_Ratio_Name = fuzz.token_sort_ratio(master['information']['name'], child['information']['name'])    \n",
    "#         Token_Sort_Ratio_Address = fuzz.token_sort_ratio(master['information']['address1'], child['information']['address1'])  \n",
    "#         master_loc = (master['information']['latitude'], master['information']['longitude'])\n",
    "#         child_loc = (child['information']['latitude'], child['information']['longitude'])\n",
    "#         location_difference_in_meter = geodesic(master_loc, child_loc).m\n",
    "#         location_difference_in_meter = round(decimal.Decimal(location_difference_in_meter), 2)\n",
    "        \n",
    "        \n",
    "\n",
    "\n",
    "        \n",
    "#         if Token_Sort_Ratio_Name > 80 and Token_Sort_Ratio_Address > 40:  \n",
    "#             print(master)\n",
    "#             print(child)\n",
    "#             print(Token_Sort_Ratio_Name, Token_Sort_Ratio_Address, location_difference_in_meter)            \n",
    "#             print('===========================================================================================================')"
   ]
  }
 ],
 "metadata": {
  "kernelspec": {
   "display_name": "Python 3",
   "language": "python",
   "name": "python3"
  },
  "language_info": {
   "codemirror_mode": {
    "name": "ipython",
    "version": 3
   },
   "file_extension": ".py",
   "mimetype": "text/x-python",
   "name": "python",
   "nbconvert_exporter": "python",
   "pygments_lexer": "ipython3",
   "version": "3.7.0"
  }
 },
 "nbformat": 4,
 "nbformat_minor": 2
}
