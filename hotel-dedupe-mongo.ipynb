{
 "cells": [
  {
   "cell_type": "code",
   "execution_count": null,
   "metadata": {},
   "outputs": [],
   "source": [
    "import pymongo\n",
    "import decimal\n",
    "from fuzzywuzzy import fuzz\n",
    "from geopy.distance import geodesic"
   ]
  },
  {
   "cell_type": "code",
   "execution_count": null,
   "metadata": {},
   "outputs": [],
   "source": [
    "myclient = pymongo.MongoClient(\"mongodb://192.168.0.124:27017/\")\n",
    "mydb = myclient[\"HotelStaticDump\"]\n",
    "dataCollection = mydb['staticDumpHotel']"
   ]
  },
  {
   "cell_type": "code",
   "execution_count": null,
   "metadata": {
    "scrolled": true
   },
   "outputs": [],
   "source": [
    "whereClause = {\"information.name\": \"Hotel City Park\"}\n",
    "attributes = { \n",
    "    \"_id\": 1, \n",
    "    \"ota\": 1, \n",
    "    \"information.name\": 1, \n",
    "    \"information.address1\": 1, \n",
    "    \"information.city\": 1, \n",
    "    \"information.latitude\": 1,\n",
    "    \"information.longitude\": 1,\n",
    "    \"information.postalCode\": 1\n",
    "}\n",
    "\n",
    "\n",
    "\n",
    "for master in dataCollection.find(whereClause,attributes):\n",
    "    for child in dataCollection.find(whereClause, attributes):\n",
    "        \n",
    "        if (master['_id'] != child['_id']):\n",
    "            Token_Sort_Ratio_Name = fuzz.token_sort_ratio(master['information']['name'], child['information']['name'])    \n",
    "            Token_Sort_Ratio_Address = fuzz.token_sort_ratio(master['information']['address1'], child['information']['address1'])  \n",
    "            master_loc = (master['information']['latitude'], master['information']['longitude'])\n",
    "            child_loc = (child['information']['latitude'], child['information']['longitude'])\n",
    "            location_difference_in_meter = geodesic(master_loc, child_loc).m\n",
    "            location_difference_in_meter = round(decimal.Decimal(location_difference_in_meter), 2)\n",
    "\n",
    "            if (Token_Sort_Ratio_Name > 80 and Token_Sort_Ratio_Address > 40 and master['information']['postalCode'] == child['information']['postalCode']) :  \n",
    "                print(master)\n",
    "                print('---------------------------------------------------------------------')\n",
    "                print(child)\n",
    "                print('---------------------------------------------------------------------')\n",
    "                print(Token_Sort_Ratio_Name, Token_Sort_Ratio_Address, location_difference_in_meter)            \n",
    "                print('===========================================================================================================')\n",
    "        \n",
    "        \n",
    "\n",
    "\n",
    "        \n"
   ]
  }
 ],
 "metadata": {
  "kernelspec": {
   "display_name": "Python 3",
   "language": "python",
   "name": "python3"
  },
  "language_info": {
   "codemirror_mode": {
    "name": "ipython",
    "version": 3
   },
   "file_extension": ".py",
   "mimetype": "text/x-python",
   "name": "python",
   "nbconvert_exporter": "python",
   "pygments_lexer": "ipython3",
   "version": "3.7.0"
  }
 },
 "nbformat": 4,
 "nbformat_minor": 2
}
